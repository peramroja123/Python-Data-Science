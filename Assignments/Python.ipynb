{
  "nbformat": 4,
  "nbformat_minor": 0,
  "metadata": {
    "colab": {
      "provenance": []
    },
    "kernelspec": {
      "name": "python3",
      "display_name": "Python 3"
    },
    "language_info": {
      "name": "python"
    }
  },
  "cells": [
    {
      "cell_type": "markdown",
      "source": [
        "1 . Print the input text without vowels using List comprehensions\n",
        "\n",
        "input = 'hai'\n",
        "\n",
        "Expected output = h\n"
      ],
      "metadata": {
        "id": "3l8OjVwN1fjg"
      }
    },
    {
      "cell_type": "code",
      "execution_count": 1,
      "metadata": {
        "colab": {
          "base_uri": "https://localhost:8080/"
        },
        "id": "T6a7cQ6YJd8R",
        "outputId": "ee19b1cb-aa58-4118-c11c-3b0f09a7c5f3"
      },
      "outputs": [
        {
          "output_type": "stream",
          "name": "stdout",
          "text": [
            "h\n"
          ]
        }
      ],
      "source": [
        "#1\n",
        "print(''.join([i for i in 'hai' if i not in 'aeiouAEIOU']))"
      ]
    },
    {
      "cell_type": "markdown",
      "source": [
        "2 . Print only vowels from the text using List comprehensions\n",
        "\n",
        "input = data\n",
        "\n",
        "Expected output = dt\n"
      ],
      "metadata": {
        "id": "1DcoyMu61jsm"
      }
    },
    {
      "cell_type": "code",
      "source": [
        "#2\n",
        "print(''.join([i for i in 'data' if i in 'aeiouAEIOU']))"
      ],
      "metadata": {
        "colab": {
          "base_uri": "https://localhost:8080/"
        },
        "id": "tB5to3tKJiNj",
        "outputId": "1e4e39c1-2428-4c76-97f9-89ff50923ea2"
      },
      "execution_count": 2,
      "outputs": [
        {
          "output_type": "stream",
          "name": "stdout",
          "text": [
            "aa\n"
          ]
        }
      ]
    },
    {
      "cell_type": "markdown",
      "source": [
        "3. print each valu from the list with its index\n",
        "\n",
        "input = [10,11,50,34]\n",
        "\n",
        "Expected output = [100 , 111 , 502 , 343]\n"
      ],
      "metadata": {
        "id": "y2S-bBJf1oeu"
      }
    },
    {
      "cell_type": "code",
      "source": [
        "#3\n",
        "a=[10,11,50,34]\n",
        "b=[]\n",
        "for i in range(0,len(a)):\n",
        "  b.append((int)((str(a[i])+str(i))))\n",
        "print(b)"
      ],
      "metadata": {
        "colab": {
          "base_uri": "https://localhost:8080/"
        },
        "id": "a6SgB3GQJlL4",
        "outputId": "058e72ba-8e82-42f3-e93c-f83c989205ba"
      },
      "execution_count": 3,
      "outputs": [
        {
          "output_type": "stream",
          "name": "stdout",
          "text": [
            "[100, 111, 502, 343]\n"
          ]
        }
      ]
    },
    {
      "cell_type": "markdown",
      "source": [
        "4 . This is a Python Program to print all integers that aren’t divisible by either 2 or 3 and lies between 1 and 50.\n"
      ],
      "metadata": {
        "id": "oal_NXiC1am9"
      }
    },
    {
      "cell_type": "code",
      "source": [
        "#4\n",
        "for i in range(1,51):\n",
        "  if i%2!=0 and i%3!=0:\n",
        "    print(i)"
      ],
      "metadata": {
        "colab": {
          "base_uri": "https://localhost:8080/"
        },
        "id": "BMTlm5vlJpEB",
        "outputId": "3804ef0d-c006-4794-e618-d281def8e051"
      },
      "execution_count": 4,
      "outputs": [
        {
          "output_type": "stream",
          "name": "stdout",
          "text": [
            "1\n",
            "5\n",
            "7\n",
            "11\n",
            "13\n",
            "17\n",
            "19\n",
            "23\n",
            "25\n",
            "29\n",
            "31\n",
            "35\n",
            "37\n",
            "41\n",
            "43\n",
            "47\n",
            "49\n"
          ]
        }
      ]
    },
    {
      "cell_type": "markdown",
      "source": [
        "5 . The program takes in an integer and prints the smallest divisor of the integer.\n"
      ],
      "metadata": {
        "id": "pYQ69LNy1utz"
      }
    },
    {
      "cell_type": "code",
      "source": [
        "#5\n",
        "n=10\n",
        "a=[]\n",
        "for i in range(2,n+1):\n",
        "    if(n%i==0):\n",
        "        a.append(i)\n",
        "a.sort()\n",
        "print(a[0])"
      ],
      "metadata": {
        "colab": {
          "base_uri": "https://localhost:8080/"
        },
        "id": "3OxS8-7NJrR6",
        "outputId": "64826c08-b77e-4200-e78d-ad722e696c71"
      },
      "execution_count": 5,
      "outputs": [
        {
          "output_type": "stream",
          "name": "stdout",
          "text": [
            "2\n"
          ]
        }
      ]
    },
    {
      "cell_type": "markdown",
      "source": [
        "6 . Write a Python program to check if it is a strong number or not .\n"
      ],
      "metadata": {
        "id": "ZXATW0yh1x0x"
      }
    },
    {
      "cell_type": "code",
      "source": [
        "#6\n",
        "n=145\n",
        "sum=0\n",
        "temp=n\n",
        "while temp>0:\n",
        "    r=temp%10\n",
        "    fact=1\n",
        "    for i in range(1,r+1):\n",
        "        fact*=i\n",
        "    sum+=fact\n",
        "    temp//=10\n",
        "if n==sum:\n",
        "    print(\"strong number\")\n",
        "else:\n",
        "    print(\"Not a strong number\")"
      ],
      "metadata": {
        "colab": {
          "base_uri": "https://localhost:8080/"
        },
        "id": "n-iSL1JmJwq8",
        "outputId": "d1a9aca1-b1f8-47ca-a67c-2ef4e3543850"
      },
      "execution_count": 6,
      "outputs": [
        {
          "output_type": "stream",
          "name": "stdout",
          "text": [
            "strong number\n"
          ]
        }
      ]
    },
    {
      "cell_type": "markdown",
      "source": [
        "7 . Write a Python program that takes input from the user and displays that input back in upper and lower cases."
      ],
      "metadata": {
        "id": "4n1Pi3-51yvq"
      }
    },
    {
      "cell_type": "code",
      "source": [
        "#7\n",
        "a='I love my india'\n",
        "upper=\"\"\n",
        "lower=\"\"\n",
        "for char in a:\n",
        "  if 'a' <= char <='z':\n",
        "    upper=upper+chr(ord(char)-32)\n",
        "    lower = lower+char\n",
        "  elif 'A' <= char <='Z':\n",
        "    lower=lower+chr(ord(char)+32)\n",
        "    upper = upper+char\n",
        "  else:\n",
        "    upper=upper+char\n",
        "    lower=lower+char\n",
        "print(\"Upper case:\",upper)\n",
        "print(\"Lower case:\",lower)"
      ],
      "metadata": {
        "colab": {
          "base_uri": "https://localhost:8080/"
        },
        "id": "VFVQhLeoh5ZB",
        "outputId": "0b847f8f-91e1-4c22-f67a-ce6600e189b7"
      },
      "execution_count": 7,
      "outputs": [
        {
          "output_type": "stream",
          "name": "stdout",
          "text": [
            "Upper case: I LOVE MY INDIA\n",
            "Lower case: i love my india\n"
          ]
        }
      ]
    },
    {
      "cell_type": "markdown",
      "source": [
        "8 . Write a Python program to remove spaces from a given string\n",
        "\n",
        "input = united states\n",
        "\n",
        "output = unitedstates\n"
      ],
      "metadata": {
        "id": "w9R8LEl515D8"
      }
    },
    {
      "cell_type": "code",
      "source": [
        "#8\n",
        "a='united states'\n",
        "c = \"\"\n",
        "for char in a:\n",
        "  if char!=\" \":\n",
        "    c=c+char\n",
        "print(c)"
      ],
      "metadata": {
        "colab": {
          "base_uri": "https://localhost:8080/"
        },
        "id": "bT1zYI3Nh-mE",
        "outputId": "bc906ce0-868c-4368-df38-bb1eb068cd73"
      },
      "execution_count": 8,
      "outputs": [
        {
          "output_type": "stream",
          "name": "stdout",
          "text": [
            "unitedstates\n"
          ]
        }
      ]
    },
    {
      "cell_type": "markdown",
      "source": [
        "9 . Write a Python program to capitalize first and last letters of each word of a given string."
      ],
      "metadata": {
        "id": "RrRR6gVH18lB"
      }
    },
    {
      "cell_type": "code",
      "source": [
        "#9\n",
        "s = \"hello world\"\n",
        "a = s.split()\n",
        "r = []\n",
        "for i in a:\n",
        "    x = i[0].upper()+i[1:-1]+i[-1].upper()\n",
        "    r.append(x)\n",
        "r = \" \".join(r)\n",
        "print(r)"
      ],
      "metadata": {
        "colab": {
          "base_uri": "https://localhost:8080/"
        },
        "id": "umPIPJtViA3f",
        "outputId": "60b0ce87-651b-462a-9f83-8e9dd5ad90df"
      },
      "execution_count": 9,
      "outputs": [
        {
          "output_type": "stream",
          "name": "stdout",
          "text": [
            "HellO WorlD\n"
          ]
        }
      ]
    },
    {
      "cell_type": "markdown",
      "source": [
        "10 . write a python program to find length of a string but should not use        len keyword"
      ],
      "metadata": {
        "id": "ghDklZc21-4J"
      }
    },
    {
      "cell_type": "code",
      "source": [
        "#10\n",
        "a=[10,20,30,40,50]\n",
        "r=0\n",
        "for i in a:\n",
        "  r=r+1\n",
        "print(r)"
      ],
      "metadata": {
        "colab": {
          "base_uri": "https://localhost:8080/"
        },
        "id": "wdHU08YPiDUX",
        "outputId": "48d72318-7354-4949-8cc6-c617e35a3456"
      },
      "execution_count": 10,
      "outputs": [
        {
          "output_type": "stream",
          "name": "stdout",
          "text": [
            "5\n"
          ]
        }
      ]
    }
  ]
}